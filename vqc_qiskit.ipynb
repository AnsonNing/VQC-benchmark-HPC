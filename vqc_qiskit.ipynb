{
 "cells": [
  {
   "cell_type": "code",
   "execution_count": null,
   "metadata": {},
   "outputs": [],
   "source": [
    "import numpy as np\n",
    "from qiskit import QuantumCircuit, Aer, execute\n",
    "from qiskit.quantum_info import Statevector, Operator, Pauli\n",
    "import random\n",
    "import torch\n",
    "\n",
    "config = {\n",
    "    \"qubits\": 4,\n",
    "    \"layers\": 3,\n",
    "}\n",
    "\n",
    "def circuit(params):\n",
    "    qc = QuantumCircuit(config['qubits'])\n",
    "    \n",
    "    z1 = random.uniform(-1, 1)\n",
    "    z2 = random.uniform(-1, 1)\n",
    "    for i in range(config[\"qubits\"]):\n",
    "        qc.ry(np.arcsin(z1), i)\n",
    "        qc.rz(np.arcsin(z2), i)\n",
    "    \n",
    "    for l in range(config['layers']):\n",
    "        for i in range(config['qubits']):\n",
    "            qc.ry(params[i], i)\n",
    "        for i in range(config['qubits'] - 1):\n",
    "            qc.cx(i, i + 1)\n",
    "            qc.rz(params[i + config['qubits']], i + 1)\n",
    "            qc.cx(i, i + 1)\n",
    "    \n",
    "    return qc\n",
    "\n",
    "def expectation_values(circuit):\n",
    "    backend = Aer.get_backend('statevector_simulator')\n",
    "    job = execute(circuit, backend, shots = 5000)\n",
    "    state = job.result().get_statevector()\n",
    "    \n",
    "    expectations = []\n",
    "    for i in range(config['qubits']):\n",
    "        pauli_list = ['I'] * config['qubits']\n",
    "        pauli_list[i] = 'Z'\n",
    "        z_pauli = Pauli(''.join(pauli_list))\n",
    "\n",
    "        expectation = Statevector(state).expectation_value(z_pauli).real\n",
    "        expectations.append(expectation)\n",
    "    \n",
    "    return expectations[0]\n",
    "\n",
    "params = np.random.rand(config['qubits'] * 2) \n",
    "qc = circuit(params)\n",
    "expectations = expectation_values(qc)\n",
    "\n",
    "print(expectations)"
   ]
  },
  {
   "cell_type": "code",
   "execution_count": null,
   "metadata": {},
   "outputs": [],
   "source": [
    "x = torch.randn(1, 3, 64, 64)\n",
    "\n",
    "Ɛ = torch.zeros_like(x)\n",
    "\n",
    "for i in range(x.shape[1]): \n",
    "    for j in range(x.shape[2]):  \n",
    "        for k in range(x.shape[3]):  \n",
    "            values = expectation_values(qc)\n",
    "            Ɛ[:, i, j, k] = values\n",
    "\n",
    "print(Ɛ)\n",
    "print(Ɛ.shape)"
   ]
  },
  {
   "cell_type": "code",
   "execution_count": null,
   "metadata": {},
   "outputs": [],
   "source": [
    "x = torch.randn(1, 3, 64, 64)\n",
    "Ɛ = torch.zeros_like(x)\n",
    "\n",
    "for i in range(x.shape[1]): \n",
    "    for j in range(x.shape[2]):\n",
    "        values = []\n",
    "        for k in range(0, x.shape[3]):\n",
    "            if k % config[\"qubits\"] == 0:  \n",
    "                values = expectation_values(qc)\n",
    "                random.shuffle(values)\n",
    "            Ɛ[:, i, j, k] = values[k % config[\"qubits\"]] \n",
    "\n",
    "print(Ɛ)\n",
    "print(Ɛ.shape)"
   ]
  }
 ],
 "metadata": {
  "kernelspec": {
   "display_name": "nenv",
   "language": "python",
   "name": "python3"
  },
  "language_info": {
   "codemirror_mode": {
    "name": "ipython",
    "version": 3
   },
   "file_extension": ".py",
   "mimetype": "text/x-python",
   "name": "python",
   "nbconvert_exporter": "python",
   "pygments_lexer": "ipython3",
   "version": "3.10.4"
  }
 },
 "nbformat": 4,
 "nbformat_minor": 2
}
