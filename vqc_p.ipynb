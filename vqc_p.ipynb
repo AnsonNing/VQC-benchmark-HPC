{
 "cells": [
  {
   "cell_type": "code",
   "execution_count": 1,
   "metadata": {},
   "outputs": [],
   "source": [
    "import os\n",
    "from matplotlib import pyplot as plt\n",
    "from tqdm import tqdm\n",
    "import logging\n",
    "import pennylane as qml\n",
    "import numpy as np\n",
    "import random\n",
    "import torch"
   ]
  },
  {
   "cell_type": "code",
   "execution_count": 2,
   "metadata": {},
   "outputs": [
    {
     "name": "stdout",
     "output_type": "stream",
     "text": [
      "[tensor(0.7224, dtype=torch.float64), tensor(0.1574, dtype=torch.float64), tensor(0.2491, dtype=torch.float64), tensor(0.8491, dtype=torch.float64)]\n"
     ]
    },
    {
     "name": "stderr",
     "output_type": "stream",
     "text": [
      "Kokkos::OpenMP::initialize WARNING: OMP_PROC_BIND environment variable not set\n",
      "  In general, for best performance with OpenMP 4.0 or better set OMP_PROC_BIND=spread and OMP_PLACES=threads\n",
      "  For best performance with OpenMP 3.1 set OMP_PROC_BIND=true\n",
      "  For unit testing set OMP_PROC_BIND=false\n",
      "\n"
     ]
    }
   ],
   "source": [
    "config = {\n",
    "    \"qubits\": 4,  \n",
    "    \"layers\": 3,  \n",
    "}\n",
    "\n",
    "#dev = qml.device('default.qubit', wires=config[\"qubits\"])\n",
    "dev = qml.device('lightning.kokkos', wires=config[\"qubits\"])\n",
    "#dev = qml.device('lightning.gpu', wires=config[\"qubits\"], mpi = True)\n",
    "#dev = qml.device('lightning.gpu', wires=config[\"qubits\"])\n",
    "\n",
    "@qml.qnode(dev, interface='torch', diff_method='adjoint')\n",
    "def gen_circuit(w):\n",
    "    z1 = random.uniform(-1, 1)\n",
    "    z2 = random.uniform(-1, 1)\n",
    "    for i in range(config[\"qubits\"]):\n",
    "        qml.RY(np.arcsin(z1), wires=i)\n",
    "        qml.RZ(np.arcsin(z2), wires=i)\n",
    "    for l in range(config[\"layers\"]):\n",
    "        for i in range(config[\"qubits\"]):\n",
    "            qml.RY(w[i], wires=i)\n",
    "        for i in range(config[\"qubits\"]-1):\n",
    "            qml.CNOT(wires=[i, i+1])\n",
    "            qml.RZ(w[i + config[\"qubits\"]], wires=i+1)\n",
    "            qml.CNOT(wires=[i, i+1])\n",
    "    #return qml.expval(qml.PauliZ(1)) \n",
    "    return [qml.expval(qml.PauliZ(i)) for i in range(config[\"qubits\"])]\n",
    "\n",
    "\n",
    "w = np.random.rand(config[\"qubits\"] * 2)\n",
    "print(gen_circuit(w))"
   ]
  },
  {
   "cell_type": "code",
   "execution_count": 4,
   "metadata": {},
   "outputs": [],
   "source": [
    "device = torch.device(\"cuda\")\n",
    "\n",
    "\n",
    "x = torch.randn(1, 3, 64, 64)\n",
    "Ɛ = torch.zeros_like(x)\n",
    "\n",
    "for i in range(x.shape[1]): \n",
    "    for j in range(x.shape[2]):\n",
    "        values = []\n",
    "        for k in range(0, x.shape[3]):\n",
    "            if k % config[\"qubits\"] == 0:  \n",
    "                values = gen_circuit(w)\n",
    "                random.shuffle(values)\n",
    "            Ɛ[:, i, j, k] = values[k % config[\"qubits\"]] \n",
    "\n",
    "print(Ɛ)\n",
    "print(Ɛ.shape)\n"
   ]
  },
  {
   "cell_type": "code",
   "execution_count": null,
   "metadata": {},
   "outputs": [],
   "source": [
    "x = torch.randn(1, 3, 64, 64)\n",
    "\n",
    "Ɛ = torch.zeros_like(x)\n",
    "\n",
    "for i in range(x.shape[1]): \n",
    "    for j in range(x.shape[2]):  \n",
    "        for k in range(x.shape[3]):  \n",
    "            values = gen_circuit(w) \n",
    "            Ɛ[:, i, j, k] = values\n",
    "\n",
    "print(Ɛ)\n",
    "print(Ɛ.shape)"
   ]
  }
 ],
 "metadata": {
  "kernelspec": {
   "display_name": "nenv",
   "language": "python",
   "name": "python3"
  },
  "language_info": {
   "codemirror_mode": {
    "name": "ipython",
    "version": 3
   },
   "file_extension": ".py",
   "mimetype": "text/x-python",
   "name": "python",
   "nbconvert_exporter": "python",
   "pygments_lexer": "ipython3",
   "version": "3.10.4"
  }
 },
 "nbformat": 4,
 "nbformat_minor": 2
}
